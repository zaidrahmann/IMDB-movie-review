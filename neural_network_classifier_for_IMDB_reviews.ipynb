{
  "nbformat": 4,
  "nbformat_minor": 0,
  "metadata": {
    "colab": {
      "provenance": [],
      "gpuType": "T4"
    },
    "kernelspec": {
      "name": "python3",
      "display_name": "Python 3"
    },
    "language_info": {
      "name": "python"
    },
    "accelerator": "GPU"
  },
  "cells": [
    {
      "cell_type": "code",
      "source": [
        "import keras\n",
        "import tensorflow as tf\n",
        "tf.keras.backend.clear_session()\n",
        "from keras.models import Sequential\n",
        "from keras import layers\n",
        "#from keras.preprocessing.sequence import pad_sequences\n",
        "from keras.utils import pad_sequences\n",
        "from keras.preprocessing.text import Tokenizer\n",
        "from keras.layers import Embedding, LSTM, Bidirectional, Dense"
      ],
      "metadata": {
        "id": "TdyQhfWVf3y3"
      },
      "execution_count": null,
      "outputs": []
    },
    {
      "cell_type": "code",
      "source": [
        "from sklearn.feature_extraction.text import CountVectorizer\n",
        "from sklearn.model_selection import train_test_split\n",
        "import pandas as pd\n",
        "import numpy as np\n",
        "import matplotlib.pyplot as plt\n",
        "from sklearn.metrics import accuracy_score, precision_score, recall_score, f1_score"
      ],
      "metadata": {
        "id": "JW02m6K4gSxi"
      },
      "execution_count": null,
      "outputs": []
    },
    {
      "cell_type": "code",
      "source": [
        "from google.colab import drive\n",
        "drive.mount('/content/drive')"
      ],
      "metadata": {
        "id": "tLs76fqRgpuy",
        "colab": {
          "base_uri": "https://localhost:8080/"
        },
        "outputId": "52656126-5c2d-42a4-80f4-7150d99e71ee"
      },
      "execution_count": null,
      "outputs": [
        {
          "output_type": "stream",
          "name": "stdout",
          "text": [
            "Mounted at /content/drive\n"
          ]
        }
      ]
    },
    {
      "cell_type": "code",
      "source": [
        "file_path = input(\"Enter the path to the CSV file: \")\n",
        "dataset = pd.read_csv(file_path, header=0, encoding='Latin', engine='python')\n",
        "#dataset= pd.read_csv(\"/content/drive/MyDrive/IMDB Dataset.csv\",header = 0, encoding = 'Latin', engine = 'python')\n",
        "dataset.head()"
      ],
      "metadata": {
        "colab": {
          "base_uri": "https://localhost:8080/",
          "height": 224
        },
        "id": "S4SvQmcMieRc",
        "outputId": "8a127c80-482b-4b89-c56e-b6a7d426a094"
      },
      "execution_count": null,
      "outputs": [
        {
          "name": "stdout",
          "output_type": "stream",
          "text": [
            "Enter the path to the CSV file: /content/drive/MyDrive/IMDB Dataset.csv\n"
          ]
        },
        {
          "output_type": "execute_result",
          "data": {
            "text/plain": [
              "                                              review sentiment\n",
              "0  One of the other reviewers has mentioned that ...  positive\n",
              "1  A wonderful little production. <br /><br />The...  positive\n",
              "2  I thought this was a wonderful way to spend ti...  positive\n",
              "3  Basically there's a family where a little boy ...  negative\n",
              "4  Petter Mattei's \"Love in the Time of Money\" is...  positive"
            ],
            "text/html": [
              "\n",
              "  <div id=\"df-33246b9b-00dc-4a04-9942-323a306eb538\" class=\"colab-df-container\">\n",
              "    <div>\n",
              "<style scoped>\n",
              "    .dataframe tbody tr th:only-of-type {\n",
              "        vertical-align: middle;\n",
              "    }\n",
              "\n",
              "    .dataframe tbody tr th {\n",
              "        vertical-align: top;\n",
              "    }\n",
              "\n",
              "    .dataframe thead th {\n",
              "        text-align: right;\n",
              "    }\n",
              "</style>\n",
              "<table border=\"1\" class=\"dataframe\">\n",
              "  <thead>\n",
              "    <tr style=\"text-align: right;\">\n",
              "      <th></th>\n",
              "      <th>review</th>\n",
              "      <th>sentiment</th>\n",
              "    </tr>\n",
              "  </thead>\n",
              "  <tbody>\n",
              "    <tr>\n",
              "      <th>0</th>\n",
              "      <td>One of the other reviewers has mentioned that ...</td>\n",
              "      <td>positive</td>\n",
              "    </tr>\n",
              "    <tr>\n",
              "      <th>1</th>\n",
              "      <td>A wonderful little production. &lt;br /&gt;&lt;br /&gt;The...</td>\n",
              "      <td>positive</td>\n",
              "    </tr>\n",
              "    <tr>\n",
              "      <th>2</th>\n",
              "      <td>I thought this was a wonderful way to spend ti...</td>\n",
              "      <td>positive</td>\n",
              "    </tr>\n",
              "    <tr>\n",
              "      <th>3</th>\n",
              "      <td>Basically there's a family where a little boy ...</td>\n",
              "      <td>negative</td>\n",
              "    </tr>\n",
              "    <tr>\n",
              "      <th>4</th>\n",
              "      <td>Petter Mattei's \"Love in the Time of Money\" is...</td>\n",
              "      <td>positive</td>\n",
              "    </tr>\n",
              "  </tbody>\n",
              "</table>\n",
              "</div>\n",
              "    <div class=\"colab-df-buttons\">\n",
              "\n",
              "  <div class=\"colab-df-container\">\n",
              "    <button class=\"colab-df-convert\" onclick=\"convertToInteractive('df-33246b9b-00dc-4a04-9942-323a306eb538')\"\n",
              "            title=\"Convert this dataframe to an interactive table.\"\n",
              "            style=\"display:none;\">\n",
              "\n",
              "  <svg xmlns=\"http://www.w3.org/2000/svg\" height=\"24px\" viewBox=\"0 -960 960 960\">\n",
              "    <path d=\"M120-120v-720h720v720H120Zm60-500h600v-160H180v160Zm220 220h160v-160H400v160Zm0 220h160v-160H400v160ZM180-400h160v-160H180v160Zm440 0h160v-160H620v160ZM180-180h160v-160H180v160Zm440 0h160v-160H620v160Z\"/>\n",
              "  </svg>\n",
              "    </button>\n",
              "\n",
              "  <style>\n",
              "    .colab-df-container {\n",
              "      display:flex;\n",
              "      gap: 12px;\n",
              "    }\n",
              "\n",
              "    .colab-df-convert {\n",
              "      background-color: #E8F0FE;\n",
              "      border: none;\n",
              "      border-radius: 50%;\n",
              "      cursor: pointer;\n",
              "      display: none;\n",
              "      fill: #1967D2;\n",
              "      height: 32px;\n",
              "      padding: 0 0 0 0;\n",
              "      width: 32px;\n",
              "    }\n",
              "\n",
              "    .colab-df-convert:hover {\n",
              "      background-color: #E2EBFA;\n",
              "      box-shadow: 0px 1px 2px rgba(60, 64, 67, 0.3), 0px 1px 3px 1px rgba(60, 64, 67, 0.15);\n",
              "      fill: #174EA6;\n",
              "    }\n",
              "\n",
              "    .colab-df-buttons div {\n",
              "      margin-bottom: 4px;\n",
              "    }\n",
              "\n",
              "    [theme=dark] .colab-df-convert {\n",
              "      background-color: #3B4455;\n",
              "      fill: #D2E3FC;\n",
              "    }\n",
              "\n",
              "    [theme=dark] .colab-df-convert:hover {\n",
              "      background-color: #434B5C;\n",
              "      box-shadow: 0px 1px 3px 1px rgba(0, 0, 0, 0.15);\n",
              "      filter: drop-shadow(0px 1px 2px rgba(0, 0, 0, 0.3));\n",
              "      fill: #FFFFFF;\n",
              "    }\n",
              "  </style>\n",
              "\n",
              "    <script>\n",
              "      const buttonEl =\n",
              "        document.querySelector('#df-33246b9b-00dc-4a04-9942-323a306eb538 button.colab-df-convert');\n",
              "      buttonEl.style.display =\n",
              "        google.colab.kernel.accessAllowed ? 'block' : 'none';\n",
              "\n",
              "      async function convertToInteractive(key) {\n",
              "        const element = document.querySelector('#df-33246b9b-00dc-4a04-9942-323a306eb538');\n",
              "        const dataTable =\n",
              "          await google.colab.kernel.invokeFunction('convertToInteractive',\n",
              "                                                    [key], {});\n",
              "        if (!dataTable) return;\n",
              "\n",
              "        const docLinkHtml = 'Like what you see? Visit the ' +\n",
              "          '<a target=\"_blank\" href=https://colab.research.google.com/notebooks/data_table.ipynb>data table notebook</a>'\n",
              "          + ' to learn more about interactive tables.';\n",
              "        element.innerHTML = '';\n",
              "        dataTable['output_type'] = 'display_data';\n",
              "        await google.colab.output.renderOutput(dataTable, element);\n",
              "        const docLink = document.createElement('div');\n",
              "        docLink.innerHTML = docLinkHtml;\n",
              "        element.appendChild(docLink);\n",
              "      }\n",
              "    </script>\n",
              "  </div>\n",
              "\n",
              "\n",
              "<div id=\"df-77b27391-c6d8-4399-acb4-57cc5adfa912\">\n",
              "  <button class=\"colab-df-quickchart\" onclick=\"quickchart('df-77b27391-c6d8-4399-acb4-57cc5adfa912')\"\n",
              "            title=\"Suggest charts\"\n",
              "            style=\"display:none;\">\n",
              "\n",
              "<svg xmlns=\"http://www.w3.org/2000/svg\" height=\"24px\"viewBox=\"0 0 24 24\"\n",
              "     width=\"24px\">\n",
              "    <g>\n",
              "        <path d=\"M19 3H5c-1.1 0-2 .9-2 2v14c0 1.1.9 2 2 2h14c1.1 0 2-.9 2-2V5c0-1.1-.9-2-2-2zM9 17H7v-7h2v7zm4 0h-2V7h2v10zm4 0h-2v-4h2v4z\"/>\n",
              "    </g>\n",
              "</svg>\n",
              "  </button>\n",
              "\n",
              "<style>\n",
              "  .colab-df-quickchart {\n",
              "      --bg-color: #E8F0FE;\n",
              "      --fill-color: #1967D2;\n",
              "      --hover-bg-color: #E2EBFA;\n",
              "      --hover-fill-color: #174EA6;\n",
              "      --disabled-fill-color: #AAA;\n",
              "      --disabled-bg-color: #DDD;\n",
              "  }\n",
              "\n",
              "  [theme=dark] .colab-df-quickchart {\n",
              "      --bg-color: #3B4455;\n",
              "      --fill-color: #D2E3FC;\n",
              "      --hover-bg-color: #434B5C;\n",
              "      --hover-fill-color: #FFFFFF;\n",
              "      --disabled-bg-color: #3B4455;\n",
              "      --disabled-fill-color: #666;\n",
              "  }\n",
              "\n",
              "  .colab-df-quickchart {\n",
              "    background-color: var(--bg-color);\n",
              "    border: none;\n",
              "    border-radius: 50%;\n",
              "    cursor: pointer;\n",
              "    display: none;\n",
              "    fill: var(--fill-color);\n",
              "    height: 32px;\n",
              "    padding: 0;\n",
              "    width: 32px;\n",
              "  }\n",
              "\n",
              "  .colab-df-quickchart:hover {\n",
              "    background-color: var(--hover-bg-color);\n",
              "    box-shadow: 0 1px 2px rgba(60, 64, 67, 0.3), 0 1px 3px 1px rgba(60, 64, 67, 0.15);\n",
              "    fill: var(--button-hover-fill-color);\n",
              "  }\n",
              "\n",
              "  .colab-df-quickchart-complete:disabled,\n",
              "  .colab-df-quickchart-complete:disabled:hover {\n",
              "    background-color: var(--disabled-bg-color);\n",
              "    fill: var(--disabled-fill-color);\n",
              "    box-shadow: none;\n",
              "  }\n",
              "\n",
              "  .colab-df-spinner {\n",
              "    border: 2px solid var(--fill-color);\n",
              "    border-color: transparent;\n",
              "    border-bottom-color: var(--fill-color);\n",
              "    animation:\n",
              "      spin 1s steps(1) infinite;\n",
              "  }\n",
              "\n",
              "  @keyframes spin {\n",
              "    0% {\n",
              "      border-color: transparent;\n",
              "      border-bottom-color: var(--fill-color);\n",
              "      border-left-color: var(--fill-color);\n",
              "    }\n",
              "    20% {\n",
              "      border-color: transparent;\n",
              "      border-left-color: var(--fill-color);\n",
              "      border-top-color: var(--fill-color);\n",
              "    }\n",
              "    30% {\n",
              "      border-color: transparent;\n",
              "      border-left-color: var(--fill-color);\n",
              "      border-top-color: var(--fill-color);\n",
              "      border-right-color: var(--fill-color);\n",
              "    }\n",
              "    40% {\n",
              "      border-color: transparent;\n",
              "      border-right-color: var(--fill-color);\n",
              "      border-top-color: var(--fill-color);\n",
              "    }\n",
              "    60% {\n",
              "      border-color: transparent;\n",
              "      border-right-color: var(--fill-color);\n",
              "    }\n",
              "    80% {\n",
              "      border-color: transparent;\n",
              "      border-right-color: var(--fill-color);\n",
              "      border-bottom-color: var(--fill-color);\n",
              "    }\n",
              "    90% {\n",
              "      border-color: transparent;\n",
              "      border-bottom-color: var(--fill-color);\n",
              "    }\n",
              "  }\n",
              "</style>\n",
              "\n",
              "  <script>\n",
              "    async function quickchart(key) {\n",
              "      const quickchartButtonEl =\n",
              "        document.querySelector('#' + key + ' button');\n",
              "      quickchartButtonEl.disabled = true;  // To prevent multiple clicks.\n",
              "      quickchartButtonEl.classList.add('colab-df-spinner');\n",
              "      try {\n",
              "        const charts = await google.colab.kernel.invokeFunction(\n",
              "            'suggestCharts', [key], {});\n",
              "      } catch (error) {\n",
              "        console.error('Error during call to suggestCharts:', error);\n",
              "      }\n",
              "      quickchartButtonEl.classList.remove('colab-df-spinner');\n",
              "      quickchartButtonEl.classList.add('colab-df-quickchart-complete');\n",
              "    }\n",
              "    (() => {\n",
              "      let quickchartButtonEl =\n",
              "        document.querySelector('#df-77b27391-c6d8-4399-acb4-57cc5adfa912 button');\n",
              "      quickchartButtonEl.style.display =\n",
              "        google.colab.kernel.accessAllowed ? 'block' : 'none';\n",
              "    })();\n",
              "  </script>\n",
              "</div>\n",
              "    </div>\n",
              "  </div>\n"
            ]
          },
          "metadata": {},
          "execution_count": 4
        }
      ]
    },
    {
      "cell_type": "code",
      "source": [
        "dataset['sentiment'] = dataset['sentiment'].replace('positive', 1)\n",
        "dataset['sentiment'] = dataset['sentiment'].replace('negative', 0)"
      ],
      "metadata": {
        "id": "-_coHpHI6QLe"
      },
      "execution_count": null,
      "outputs": []
    },
    {
      "cell_type": "code",
      "source": [
        "glovepathinput = input(\"Enter the path to the gloVe file: \")\n",
        "glove_path = glovepathinput"
      ],
      "metadata": {
        "id": "pqZD0uqmkMHF",
        "colab": {
          "base_uri": "https://localhost:8080/"
        },
        "outputId": "33bcfb2f-5b56-4449-baf6-10b19efd51e8"
      },
      "execution_count": null,
      "outputs": [
        {
          "name": "stdout",
          "output_type": "stream",
          "text": [
            "Enter the path to the gloVe file: /content/drive/MyDrive/glove.6B.100d.txt\n"
          ]
        }
      ]
    },
    {
      "cell_type": "code",
      "source": [
        "def create_embedding_matrix(filepath, word_index, embedding_dim):\n",
        "    vocab_size = len(word_index) + 1\n",
        "    embedding_matrix = np.zeros((vocab_size, embedding_dim))\n",
        "\n",
        "    with open(filepath) as f:\n",
        "        for line in f:\n",
        "            word, *vector = line.split()\n",
        "            if word in word_index:\n",
        "                idx = word_index[word]\n",
        "                embedding_matrix[idx] = np.array(vector, dtype=np.float32)[:embedding_dim]\n",
        "\n",
        "    return embedding_matrix"
      ],
      "metadata": {
        "id": "_nEwXAXfnLdK"
      },
      "execution_count": null,
      "outputs": []
    },
    {
      "cell_type": "code",
      "source": [
        "x = dataset['review']\n",
        "y = dataset['sentiment']\n",
        "x_train, x_test, y_train, y_test = train_test_split(x, y, test_size=0.2, random_state=1000)"
      ],
      "metadata": {
        "id": "afJHn7w6lSki"
      },
      "execution_count": null,
      "outputs": []
    },
    {
      "cell_type": "code",
      "source": [
        "tokenizer = Tokenizer()\n",
        "tokenizer.fit_on_texts(x_train)\n",
        "X_train_seq = tokenizer.texts_to_sequences(x_train)\n",
        "X_test_seq = tokenizer.texts_to_sequences(x_test)\n",
        "vocab_size = len(tokenizer.word_index) + 1  # Adding 1 because of reserved 0 index\n",
        "\n",
        "print(x_train[2])\n",
        "print(X_train_seq[2])"
      ],
      "metadata": {
        "id": "2Q6YXbljpeoD",
        "colab": {
          "base_uri": "https://localhost:8080/"
        },
        "outputId": "f50cfb45-d710-42ef-f8d3-d1b10c445bf6"
      },
      "execution_count": null,
      "outputs": [
        {
          "output_type": "stream",
          "name": "stdout",
          "text": [
            "I thought this was a wonderful way to spend time on a too hot summer weekend, sitting in the air conditioned theater and watching a light-hearted comedy. The plot is simplistic, but the dialogue is witty and the characters are likable (even the well bread suspected serial killer). While some may be disappointed when they realize this is not Match Point 2: Risk Addiction, I thought it was proof that Woody Allen is still fully in control of the style many of us have grown to love.<br /><br />This was the most I'd laughed at one of Woody's comedies in years (dare I say a decade?). While I've never been impressed with Scarlet Johanson, in this she managed to tone down her \"sexy\" image and jumped right into a average, but spirited young woman.<br /><br />This may not be the crown jewel of his career, but it was wittier than \"Devil Wears Prada\" and more interesting than \"Superman\" a great comedy to go see with friends.\n",
            "[5, 94, 3, 19, 34839, 1, 18771, 2, 1, 144, 326, 1671, 2515, 59, 6982, 57, 3, 79, 19, 2745, 441, 5033, 6, 21, 12, 19, 2745, 7, 7, 5, 2069, 1, 785, 4, 3, 49, 128, 82, 2385, 754, 3, 49, 292, 441, 13351, 6, 21, 12, 292, 7, 7, 1, 86, 3732, 2993, 226, 23, 12859, 347, 16, 61, 3, 169, 14636, 4, 244, 51, 652, 24879, 1866, 18, 46, 6, 3, 573, 4, 1260, 85, 22, 462, 119, 60, 283, 102, 1885, 5, 1, 211, 326, 1671, 7, 7, 1621, 51055, 1511, 964, 45, 3, 52, 9140, 210, 133, 2, 42, 1, 116, 319, 6, 5, 25, 8069, 8069, 22711, 1241, 7, 7, 54, 1, 19, 61, 3030, 53, 16, 1, 22712, 1597, 20, 1, 10061, 2, 45, 27, 79, 5778, 704, 30, 1, 8810, 756]\n"
          ]
        }
      ]
    },
    {
      "cell_type": "code",
      "source": [
        "embedding_dim = 100\n",
        "embedding_matrix = create_embedding_matrix(glove_path,tokenizer.word_index, embedding_dim)"
      ],
      "metadata": {
        "id": "d9m5HPlhtX25"
      },
      "execution_count": null,
      "outputs": []
    },
    {
      "cell_type": "code",
      "source": [
        "nonzero_elements = np.count_nonzero(np.count_nonzero(embedding_matrix, axis=1))\n",
        "nonzero_elements / vocab_size"
      ],
      "metadata": {
        "colab": {
          "base_uri": "https://localhost:8080/"
        },
        "id": "YOYVjNcmvz8I",
        "outputId": "b5c559ca-9d03-4782-b849-bbd1201e712d"
      },
      "execution_count": null,
      "outputs": [
        {
          "output_type": "execute_result",
          "data": {
            "text/plain": [
              "0.6250912002847229"
            ]
          },
          "metadata": {},
          "execution_count": 11
        }
      ]
    },
    {
      "cell_type": "code",
      "source": [
        "from keras import backend as K\n",
        "def precision_m(y_true, y_pred):\n",
        "    true_positives = K.sum(K.round(K.clip(y_true * y_pred, 0, 1)))\n",
        "    predicted_positives = K.sum(K.round(K.clip(y_pred, 0, 1)))\n",
        "    precision = K.clip(true_positives / (predicted_positives + K.epsilon()), 0, 1)\n",
        "    return precision\n",
        "\n",
        "def recall_m(y_true, y_pred):\n",
        "    true_positives = K.sum(K.round(K.clip(y_true * y_pred, 0, 1)))\n",
        "    possible_positives = K.sum(K.round(K.clip(y_true, 0, 1)))\n",
        "    recall = K.clip(true_positives / (possible_positives + K.epsilon()), 0, 1)\n",
        "    return recall\n",
        "\n",
        "def f1score_m(y_true, y_pred):\n",
        "    true_positives = K.sum(K.round(K.clip(y_true * y_pred, 0, 1)))\n",
        "    possible_positives = K.sum(K.round(K.clip(y_true, 0, 1)))\n",
        "    recall = K.clip(true_positives / (possible_positives + K.epsilon()), 0, 1)\n",
        "\n",
        "    predicted_positives = K.sum(K.round(K.clip(y_pred, 0, 1)))\n",
        "    precision = K.clip(true_positives / (predicted_positives + K.epsilon()), 0, 1)\n",
        "\n",
        "    if precision + recall == 0:\n",
        "        f1_score = K.constant(0)\n",
        "    else:\n",
        "        f1_score = K.clip(2 * (precision * recall) / (precision + recall), 0, 1)\n",
        "\n",
        "    return f1_score\n"
      ],
      "metadata": {
        "id": "bfnf49MRjzuN"
      },
      "execution_count": null,
      "outputs": []
    },
    {
      "cell_type": "code",
      "source": [
        "batch_sizes_to_try = [16, 32, 64, 128, 256]\n",
        "max_length = 100\n",
        "X_train_pad = pad_sequences(X_train_seq, maxlen=max_length)\n",
        "X_test_pad = pad_sequences(X_test_seq, maxlen=max_length)\n",
        "for batch_size in batch_sizes_to_try:\n",
        "    print(f\"\\nTraining with batch size: {batch_size}\")\n",
        "\n",
        "\n",
        "    shallow_model = Sequential()\n",
        "    shallow_model.add(Embedding(input_dim=len(tokenizer.word_index) + 1, output_dim=100, input_length=max_length, weights=[embedding_matrix], trainable=False))\n",
        "    shallow_model.add(Dense(10, activation='relu'))\n",
        "    shallow_model.add(Dense(1, activation='sigmoid'))\n",
        "    shallow_model.compile(optimizer='adam', loss='binary_crossentropy', metrics=['accuracy'])\n",
        "\n",
        "    # Train\n",
        "    history = shallow_model.fit(X_train_pad, y_train, epochs=20, batch_size=batch_size, validation_split=0.1, verbose=0)\n",
        "\n",
        "    # Evaluate\n",
        "    loss, accuracy = shallow_model.evaluate(X_test_pad, y_test)\n",
        "    print(f'Test Accuracy (Batch Size {batch_size}): {accuracy * 100:.2f}%')"
      ],
      "metadata": {
        "colab": {
          "base_uri": "https://localhost:8080/"
        },
        "id": "o_dkVh8NJgQx",
        "outputId": "fda4bd91-4b38-45d8-902c-0a88489695e1"
      },
      "execution_count": null,
      "outputs": [
        {
          "output_type": "stream",
          "name": "stdout",
          "text": [
            "\n",
            "Training with batch size: 16\n",
            "313/313 [==============================] - 1s 3ms/step - loss: 0.6824 - accuracy: 0.5466\n",
            "Test Accuracy (Batch Size 16): 54.66%\n",
            "\n",
            "Training with batch size: 32\n",
            "313/313 [==============================] - 1s 3ms/step - loss: 0.6833 - accuracy: 0.5453\n",
            "Test Accuracy (Batch Size 32): 54.53%\n",
            "\n",
            "Training with batch size: 64\n",
            "313/313 [==============================] - 1s 3ms/step - loss: 0.6831 - accuracy: 0.5466\n",
            "Test Accuracy (Batch Size 64): 54.66%\n",
            "\n",
            "Training with batch size: 128\n",
            "313/313 [==============================] - 1s 4ms/step - loss: 0.6836 - accuracy: 0.5458\n",
            "Test Accuracy (Batch Size 128): 54.58%\n",
            "\n",
            "Training with batch size: 256\n",
            "313/313 [==============================] - 1s 3ms/step - loss: 0.6839 - accuracy: 0.5444\n",
            "Test Accuracy (Batch Size 256): 54.44%\n"
          ]
        }
      ]
    },
    {
      "cell_type": "code",
      "source": [
        "model = Sequential()\n",
        "maxlen = 100\n",
        "model.add(layers.Embedding(vocab_size, embedding_dim, weights=[embedding_matrix], input_length=maxlen,  trainable=True))\n",
        "model.add(layers.Dense(10, activation='relu'))\n",
        "model.add(layers.Dense(1, activation='sigmoid'))\n",
        "model.compile(optimizer='adam',loss='binary_crossentropy',metrics=['accuracy',precision_m,recall_m,f1score_m])\n",
        "model.summary()"
      ],
      "metadata": {
        "colab": {
          "base_uri": "https://localhost:8080/"
        },
        "id": "lJnH_60V0SlW",
        "outputId": "e1f9c65a-a42c-407e-cf2b-2a6a736d52db"
      },
      "execution_count": null,
      "outputs": [
        {
          "output_type": "stream",
          "name": "stdout",
          "text": [
            "Model: \"sequential_6\"\n",
            "_________________________________________________________________\n",
            " Layer (type)                Output Shape              Param #   \n",
            "=================================================================\n",
            " embedding_6 (Embedding)     (None, 100, 100)          11239000  \n",
            "                                                                 \n",
            " dense_12 (Dense)            (None, 100, 10)           1010      \n",
            "                                                                 \n",
            " dense_13 (Dense)            (None, 100, 1)            11        \n",
            "                                                                 \n",
            "=================================================================\n",
            "Total params: 11240021 (42.88 MB)\n",
            "Trainable params: 11240021 (42.88 MB)\n",
            "Non-trainable params: 0 (0.00 Byte)\n",
            "_________________________________________________________________\n"
          ]
        }
      ]
    },
    {
      "cell_type": "code",
      "source": [
        "max_length = 100\n",
        "\n",
        "X_train_pad = pad_sequences(X_train_seq, maxlen=max_length)\n",
        "X_test_pad = pad_sequences(X_test_seq, maxlen=max_length)\n",
        "model.fit(X_train_pad, y_train, epochs=20, batch_size=16, validation_split=0.1)\n"
      ],
      "metadata": {
        "colab": {
          "base_uri": "https://localhost:8080/",
          "height": 653
        },
        "id": "IO4nw7df4b2F",
        "outputId": "a1261925-717a-4ab1-ddeb-217593973f83"
      },
      "execution_count": null,
      "outputs": [
        {
          "output_type": "stream",
          "name": "stdout",
          "text": [
            "Epoch 1/20\n",
            "563/563 [==============================] - 168s 291ms/step - loss: 0.6867 - accuracy: 0.5444 - precision_m: 0.5466 - recall_m: 1.0000 - f1score_m: 0.7042 - val_loss: 0.6811 - val_accuracy: 0.5482 - val_precision_m: 0.5844 - val_recall_m: 1.0000 - val_f1score_m: 0.7362\n",
            "Epoch 2/20\n",
            "563/563 [==============================] - 176s 313ms/step - loss: 0.6762 - accuracy: 0.5625 - precision_m: 0.5645 - recall_m: 1.0000 - f1score_m: 0.7193 - val_loss: 0.6776 - val_accuracy: 0.5591 - val_precision_m: 0.5575 - val_recall_m: 1.0000 - val_f1score_m: 0.7143\n",
            "Epoch 3/20\n",
            "563/563 [==============================] - 173s 307ms/step - loss: 0.6733 - accuracy: 0.5646 - precision_m: 0.5660 - recall_m: 1.0000 - f1score_m: 0.7206 - val_loss: 0.6779 - val_accuracy: 0.5590 - val_precision_m: 0.5496 - val_recall_m: 1.0000 - val_f1score_m: 0.7078\n",
            "Epoch 4/20\n",
            "563/563 [==============================] - 171s 303ms/step - loss: 0.6710 - accuracy: 0.5669 - precision_m: 0.5682 - recall_m: 1.0000 - f1score_m: 0.7226 - val_loss: 0.6783 - val_accuracy: 0.5572 - val_precision_m: 0.5457 - val_recall_m: 1.0000 - val_f1score_m: 0.7046\n",
            "Epoch 5/20\n",
            "563/563 [==============================] - 171s 303ms/step - loss: 0.6689 - accuracy: 0.5684 - precision_m: 0.5684 - recall_m: 1.0000 - f1score_m: 0.7228 - val_loss: 0.6790 - val_accuracy: 0.5601 - val_precision_m: 0.5558 - val_recall_m: 1.0000 - val_f1score_m: 0.7130\n",
            "Epoch 6/20\n",
            "563/563 [==============================] - 174s 309ms/step - loss: 0.6677 - accuracy: 0.5676 - precision_m: 0.5684 - recall_m: 1.0000 - f1score_m: 0.7227 - val_loss: 0.6806 - val_accuracy: 0.5567 - val_precision_m: 0.5466 - val_recall_m: 1.0000 - val_f1score_m: 0.7054\n",
            "Epoch 7/20\n",
            "563/563 [==============================] - 173s 307ms/step - loss: 0.6663 - accuracy: 0.5690 - precision_m: 0.5697 - recall_m: 1.0000 - f1score_m: 0.7238 - val_loss: 0.6811 - val_accuracy: 0.5589 - val_precision_m: 0.5517 - val_recall_m: 1.0000 - val_f1score_m: 0.7096\n",
            "Epoch 8/20\n",
            "251/563 [============>.................] - ETA: 1:34 - loss: 0.6651 - accuracy: 0.5690 - precision_m: 0.5682 - recall_m: 1.0000 - f1score_m: 0.7229"
          ]
        },
        {
          "output_type": "error",
          "ename": "KeyboardInterrupt",
          "evalue": "ignored",
          "traceback": [
            "\u001b[0;31m---------------------------------------------------------------------------\u001b[0m",
            "\u001b[0;31mKeyboardInterrupt\u001b[0m                         Traceback (most recent call last)",
            "\u001b[0;32m<ipython-input-16-55caa1746685>\u001b[0m in \u001b[0;36m<cell line: 5>\u001b[0;34m()\u001b[0m\n\u001b[1;32m      3\u001b[0m \u001b[0mX_train_pad\u001b[0m \u001b[0;34m=\u001b[0m \u001b[0mpad_sequences\u001b[0m\u001b[0;34m(\u001b[0m\u001b[0mX_train_seq\u001b[0m\u001b[0;34m,\u001b[0m \u001b[0mmaxlen\u001b[0m\u001b[0;34m=\u001b[0m\u001b[0mmax_length\u001b[0m\u001b[0;34m)\u001b[0m\u001b[0;34m\u001b[0m\u001b[0;34m\u001b[0m\u001b[0m\n\u001b[1;32m      4\u001b[0m \u001b[0mX_test_pad\u001b[0m \u001b[0;34m=\u001b[0m \u001b[0mpad_sequences\u001b[0m\u001b[0;34m(\u001b[0m\u001b[0mX_test_seq\u001b[0m\u001b[0;34m,\u001b[0m \u001b[0mmaxlen\u001b[0m\u001b[0;34m=\u001b[0m\u001b[0mmax_length\u001b[0m\u001b[0;34m)\u001b[0m\u001b[0;34m\u001b[0m\u001b[0;34m\u001b[0m\u001b[0m\n\u001b[0;32m----> 5\u001b[0;31m \u001b[0mmodel\u001b[0m\u001b[0;34m.\u001b[0m\u001b[0mfit\u001b[0m\u001b[0;34m(\u001b[0m\u001b[0mX_train_pad\u001b[0m\u001b[0;34m,\u001b[0m \u001b[0my_train\u001b[0m\u001b[0;34m,\u001b[0m \u001b[0mepochs\u001b[0m\u001b[0;34m=\u001b[0m\u001b[0;36m20\u001b[0m\u001b[0;34m,\u001b[0m \u001b[0mbatch_size\u001b[0m\u001b[0;34m=\u001b[0m\u001b[0;36m64\u001b[0m\u001b[0;34m,\u001b[0m \u001b[0mvalidation_split\u001b[0m\u001b[0;34m=\u001b[0m\u001b[0;36m0.1\u001b[0m\u001b[0;34m)\u001b[0m\u001b[0;34m\u001b[0m\u001b[0;34m\u001b[0m\u001b[0m\n\u001b[0m",
            "\u001b[0;32m/usr/local/lib/python3.10/dist-packages/keras/src/utils/traceback_utils.py\u001b[0m in \u001b[0;36merror_handler\u001b[0;34m(*args, **kwargs)\u001b[0m\n\u001b[1;32m     63\u001b[0m         \u001b[0mfiltered_tb\u001b[0m \u001b[0;34m=\u001b[0m \u001b[0;32mNone\u001b[0m\u001b[0;34m\u001b[0m\u001b[0;34m\u001b[0m\u001b[0m\n\u001b[1;32m     64\u001b[0m         \u001b[0;32mtry\u001b[0m\u001b[0;34m:\u001b[0m\u001b[0;34m\u001b[0m\u001b[0;34m\u001b[0m\u001b[0m\n\u001b[0;32m---> 65\u001b[0;31m             \u001b[0;32mreturn\u001b[0m \u001b[0mfn\u001b[0m\u001b[0;34m(\u001b[0m\u001b[0;34m*\u001b[0m\u001b[0margs\u001b[0m\u001b[0;34m,\u001b[0m \u001b[0;34m**\u001b[0m\u001b[0mkwargs\u001b[0m\u001b[0;34m)\u001b[0m\u001b[0;34m\u001b[0m\u001b[0;34m\u001b[0m\u001b[0m\n\u001b[0m\u001b[1;32m     66\u001b[0m         \u001b[0;32mexcept\u001b[0m \u001b[0mException\u001b[0m \u001b[0;32mas\u001b[0m \u001b[0me\u001b[0m\u001b[0;34m:\u001b[0m\u001b[0;34m\u001b[0m\u001b[0;34m\u001b[0m\u001b[0m\n\u001b[1;32m     67\u001b[0m             \u001b[0mfiltered_tb\u001b[0m \u001b[0;34m=\u001b[0m \u001b[0m_process_traceback_frames\u001b[0m\u001b[0;34m(\u001b[0m\u001b[0me\u001b[0m\u001b[0;34m.\u001b[0m\u001b[0m__traceback__\u001b[0m\u001b[0;34m)\u001b[0m\u001b[0;34m\u001b[0m\u001b[0;34m\u001b[0m\u001b[0m\n",
            "\u001b[0;32m/usr/local/lib/python3.10/dist-packages/keras/src/engine/training.py\u001b[0m in \u001b[0;36mfit\u001b[0;34m(self, x, y, batch_size, epochs, verbose, callbacks, validation_split, validation_data, shuffle, class_weight, sample_weight, initial_epoch, steps_per_epoch, validation_steps, validation_batch_size, validation_freq, max_queue_size, workers, use_multiprocessing)\u001b[0m\n\u001b[1;32m   1805\u001b[0m                         ):\n\u001b[1;32m   1806\u001b[0m                             \u001b[0mcallbacks\u001b[0m\u001b[0;34m.\u001b[0m\u001b[0mon_train_batch_begin\u001b[0m\u001b[0;34m(\u001b[0m\u001b[0mstep\u001b[0m\u001b[0;34m)\u001b[0m\u001b[0;34m\u001b[0m\u001b[0;34m\u001b[0m\u001b[0m\n\u001b[0;32m-> 1807\u001b[0;31m                             \u001b[0mtmp_logs\u001b[0m \u001b[0;34m=\u001b[0m \u001b[0mself\u001b[0m\u001b[0;34m.\u001b[0m\u001b[0mtrain_function\u001b[0m\u001b[0;34m(\u001b[0m\u001b[0miterator\u001b[0m\u001b[0;34m)\u001b[0m\u001b[0;34m\u001b[0m\u001b[0;34m\u001b[0m\u001b[0m\n\u001b[0m\u001b[1;32m   1808\u001b[0m                             \u001b[0;32mif\u001b[0m \u001b[0mdata_handler\u001b[0m\u001b[0;34m.\u001b[0m\u001b[0mshould_sync\u001b[0m\u001b[0;34m:\u001b[0m\u001b[0;34m\u001b[0m\u001b[0;34m\u001b[0m\u001b[0m\n\u001b[1;32m   1809\u001b[0m                                 \u001b[0mcontext\u001b[0m\u001b[0;34m.\u001b[0m\u001b[0masync_wait\u001b[0m\u001b[0;34m(\u001b[0m\u001b[0;34m)\u001b[0m\u001b[0;34m\u001b[0m\u001b[0;34m\u001b[0m\u001b[0m\n",
            "\u001b[0;32m/usr/local/lib/python3.10/dist-packages/tensorflow/python/util/traceback_utils.py\u001b[0m in \u001b[0;36merror_handler\u001b[0;34m(*args, **kwargs)\u001b[0m\n\u001b[1;32m    148\u001b[0m     \u001b[0mfiltered_tb\u001b[0m \u001b[0;34m=\u001b[0m \u001b[0;32mNone\u001b[0m\u001b[0;34m\u001b[0m\u001b[0;34m\u001b[0m\u001b[0m\n\u001b[1;32m    149\u001b[0m     \u001b[0;32mtry\u001b[0m\u001b[0;34m:\u001b[0m\u001b[0;34m\u001b[0m\u001b[0;34m\u001b[0m\u001b[0m\n\u001b[0;32m--> 150\u001b[0;31m       \u001b[0;32mreturn\u001b[0m \u001b[0mfn\u001b[0m\u001b[0;34m(\u001b[0m\u001b[0;34m*\u001b[0m\u001b[0margs\u001b[0m\u001b[0;34m,\u001b[0m \u001b[0;34m**\u001b[0m\u001b[0mkwargs\u001b[0m\u001b[0;34m)\u001b[0m\u001b[0;34m\u001b[0m\u001b[0;34m\u001b[0m\u001b[0m\n\u001b[0m\u001b[1;32m    151\u001b[0m     \u001b[0;32mexcept\u001b[0m \u001b[0mException\u001b[0m \u001b[0;32mas\u001b[0m \u001b[0me\u001b[0m\u001b[0;34m:\u001b[0m\u001b[0;34m\u001b[0m\u001b[0;34m\u001b[0m\u001b[0m\n\u001b[1;32m    152\u001b[0m       \u001b[0mfiltered_tb\u001b[0m \u001b[0;34m=\u001b[0m \u001b[0m_process_traceback_frames\u001b[0m\u001b[0;34m(\u001b[0m\u001b[0me\u001b[0m\u001b[0;34m.\u001b[0m\u001b[0m__traceback__\u001b[0m\u001b[0;34m)\u001b[0m\u001b[0;34m\u001b[0m\u001b[0;34m\u001b[0m\u001b[0m\n",
            "\u001b[0;32m/usr/local/lib/python3.10/dist-packages/tensorflow/python/eager/polymorphic_function/polymorphic_function.py\u001b[0m in \u001b[0;36m__call__\u001b[0;34m(self, *args, **kwds)\u001b[0m\n\u001b[1;32m    830\u001b[0m \u001b[0;34m\u001b[0m\u001b[0m\n\u001b[1;32m    831\u001b[0m       \u001b[0;32mwith\u001b[0m \u001b[0mOptionalXlaContext\u001b[0m\u001b[0;34m(\u001b[0m\u001b[0mself\u001b[0m\u001b[0;34m.\u001b[0m\u001b[0m_jit_compile\u001b[0m\u001b[0;34m)\u001b[0m\u001b[0;34m:\u001b[0m\u001b[0;34m\u001b[0m\u001b[0;34m\u001b[0m\u001b[0m\n\u001b[0;32m--> 832\u001b[0;31m         \u001b[0mresult\u001b[0m \u001b[0;34m=\u001b[0m \u001b[0mself\u001b[0m\u001b[0;34m.\u001b[0m\u001b[0m_call\u001b[0m\u001b[0;34m(\u001b[0m\u001b[0;34m*\u001b[0m\u001b[0margs\u001b[0m\u001b[0;34m,\u001b[0m \u001b[0;34m**\u001b[0m\u001b[0mkwds\u001b[0m\u001b[0;34m)\u001b[0m\u001b[0;34m\u001b[0m\u001b[0;34m\u001b[0m\u001b[0m\n\u001b[0m\u001b[1;32m    833\u001b[0m \u001b[0;34m\u001b[0m\u001b[0m\n\u001b[1;32m    834\u001b[0m       \u001b[0mnew_tracing_count\u001b[0m \u001b[0;34m=\u001b[0m \u001b[0mself\u001b[0m\u001b[0;34m.\u001b[0m\u001b[0mexperimental_get_tracing_count\u001b[0m\u001b[0;34m(\u001b[0m\u001b[0;34m)\u001b[0m\u001b[0;34m\u001b[0m\u001b[0;34m\u001b[0m\u001b[0m\n",
            "\u001b[0;32m/usr/local/lib/python3.10/dist-packages/tensorflow/python/eager/polymorphic_function/polymorphic_function.py\u001b[0m in \u001b[0;36m_call\u001b[0;34m(self, *args, **kwds)\u001b[0m\n\u001b[1;32m    866\u001b[0m       \u001b[0;31m# In this case we have created variables on the first call, so we run the\u001b[0m\u001b[0;34m\u001b[0m\u001b[0;34m\u001b[0m\u001b[0m\n\u001b[1;32m    867\u001b[0m       \u001b[0;31m# defunned version which is guaranteed to never create variables.\u001b[0m\u001b[0;34m\u001b[0m\u001b[0;34m\u001b[0m\u001b[0m\n\u001b[0;32m--> 868\u001b[0;31m       return tracing_compilation.call_function(\n\u001b[0m\u001b[1;32m    869\u001b[0m           \u001b[0margs\u001b[0m\u001b[0;34m,\u001b[0m \u001b[0mkwds\u001b[0m\u001b[0;34m,\u001b[0m \u001b[0mself\u001b[0m\u001b[0;34m.\u001b[0m\u001b[0m_no_variable_creation_config\u001b[0m\u001b[0;34m\u001b[0m\u001b[0;34m\u001b[0m\u001b[0m\n\u001b[1;32m    870\u001b[0m       )\n",
            "\u001b[0;32m/usr/local/lib/python3.10/dist-packages/tensorflow/python/eager/polymorphic_function/tracing_compilation.py\u001b[0m in \u001b[0;36mcall_function\u001b[0;34m(args, kwargs, tracing_options)\u001b[0m\n\u001b[1;32m    137\u001b[0m   \u001b[0mbound_args\u001b[0m \u001b[0;34m=\u001b[0m \u001b[0mfunction\u001b[0m\u001b[0;34m.\u001b[0m\u001b[0mfunction_type\u001b[0m\u001b[0;34m.\u001b[0m\u001b[0mbind\u001b[0m\u001b[0;34m(\u001b[0m\u001b[0;34m*\u001b[0m\u001b[0margs\u001b[0m\u001b[0;34m,\u001b[0m \u001b[0;34m**\u001b[0m\u001b[0mkwargs\u001b[0m\u001b[0;34m)\u001b[0m\u001b[0;34m\u001b[0m\u001b[0;34m\u001b[0m\u001b[0m\n\u001b[1;32m    138\u001b[0m   \u001b[0mflat_inputs\u001b[0m \u001b[0;34m=\u001b[0m \u001b[0mfunction\u001b[0m\u001b[0;34m.\u001b[0m\u001b[0mfunction_type\u001b[0m\u001b[0;34m.\u001b[0m\u001b[0munpack_inputs\u001b[0m\u001b[0;34m(\u001b[0m\u001b[0mbound_args\u001b[0m\u001b[0;34m)\u001b[0m\u001b[0;34m\u001b[0m\u001b[0;34m\u001b[0m\u001b[0m\n\u001b[0;32m--> 139\u001b[0;31m   return function._call_flat(  # pylint: disable=protected-access\n\u001b[0m\u001b[1;32m    140\u001b[0m       \u001b[0mflat_inputs\u001b[0m\u001b[0;34m,\u001b[0m \u001b[0mcaptured_inputs\u001b[0m\u001b[0;34m=\u001b[0m\u001b[0mfunction\u001b[0m\u001b[0;34m.\u001b[0m\u001b[0mcaptured_inputs\u001b[0m\u001b[0;34m\u001b[0m\u001b[0;34m\u001b[0m\u001b[0m\n\u001b[1;32m    141\u001b[0m   )\n",
            "\u001b[0;32m/usr/local/lib/python3.10/dist-packages/tensorflow/python/eager/polymorphic_function/concrete_function.py\u001b[0m in \u001b[0;36m_call_flat\u001b[0;34m(self, tensor_inputs, captured_inputs)\u001b[0m\n\u001b[1;32m   1321\u001b[0m         and executing_eagerly):\n\u001b[1;32m   1322\u001b[0m       \u001b[0;31m# No tape is watching; skip to running the function.\u001b[0m\u001b[0;34m\u001b[0m\u001b[0;34m\u001b[0m\u001b[0m\n\u001b[0;32m-> 1323\u001b[0;31m       \u001b[0;32mreturn\u001b[0m \u001b[0mself\u001b[0m\u001b[0;34m.\u001b[0m\u001b[0m_inference_function\u001b[0m\u001b[0;34m.\u001b[0m\u001b[0mcall_preflattened\u001b[0m\u001b[0;34m(\u001b[0m\u001b[0margs\u001b[0m\u001b[0;34m)\u001b[0m\u001b[0;34m\u001b[0m\u001b[0;34m\u001b[0m\u001b[0m\n\u001b[0m\u001b[1;32m   1324\u001b[0m     forward_backward = self._select_forward_and_backward_functions(\n\u001b[1;32m   1325\u001b[0m         \u001b[0margs\u001b[0m\u001b[0;34m,\u001b[0m\u001b[0;34m\u001b[0m\u001b[0;34m\u001b[0m\u001b[0m\n",
            "\u001b[0;32m/usr/local/lib/python3.10/dist-packages/tensorflow/python/eager/polymorphic_function/atomic_function.py\u001b[0m in \u001b[0;36mcall_preflattened\u001b[0;34m(self, args)\u001b[0m\n\u001b[1;32m    214\u001b[0m   \u001b[0;32mdef\u001b[0m \u001b[0mcall_preflattened\u001b[0m\u001b[0;34m(\u001b[0m\u001b[0mself\u001b[0m\u001b[0;34m,\u001b[0m \u001b[0margs\u001b[0m\u001b[0;34m:\u001b[0m \u001b[0mSequence\u001b[0m\u001b[0;34m[\u001b[0m\u001b[0mcore\u001b[0m\u001b[0;34m.\u001b[0m\u001b[0mTensor\u001b[0m\u001b[0;34m]\u001b[0m\u001b[0;34m)\u001b[0m \u001b[0;34m->\u001b[0m \u001b[0mAny\u001b[0m\u001b[0;34m:\u001b[0m\u001b[0;34m\u001b[0m\u001b[0;34m\u001b[0m\u001b[0m\n\u001b[1;32m    215\u001b[0m     \u001b[0;34m\"\"\"Calls with flattened tensor inputs and returns the structured output.\"\"\"\u001b[0m\u001b[0;34m\u001b[0m\u001b[0;34m\u001b[0m\u001b[0m\n\u001b[0;32m--> 216\u001b[0;31m     \u001b[0mflat_outputs\u001b[0m \u001b[0;34m=\u001b[0m \u001b[0mself\u001b[0m\u001b[0;34m.\u001b[0m\u001b[0mcall_flat\u001b[0m\u001b[0;34m(\u001b[0m\u001b[0;34m*\u001b[0m\u001b[0margs\u001b[0m\u001b[0;34m)\u001b[0m\u001b[0;34m\u001b[0m\u001b[0;34m\u001b[0m\u001b[0m\n\u001b[0m\u001b[1;32m    217\u001b[0m     \u001b[0;32mreturn\u001b[0m \u001b[0mself\u001b[0m\u001b[0;34m.\u001b[0m\u001b[0mfunction_type\u001b[0m\u001b[0;34m.\u001b[0m\u001b[0mpack_output\u001b[0m\u001b[0;34m(\u001b[0m\u001b[0mflat_outputs\u001b[0m\u001b[0;34m)\u001b[0m\u001b[0;34m\u001b[0m\u001b[0;34m\u001b[0m\u001b[0m\n\u001b[1;32m    218\u001b[0m \u001b[0;34m\u001b[0m\u001b[0m\n",
            "\u001b[0;32m/usr/local/lib/python3.10/dist-packages/tensorflow/python/eager/polymorphic_function/atomic_function.py\u001b[0m in \u001b[0;36mcall_flat\u001b[0;34m(self, *args)\u001b[0m\n\u001b[1;32m    249\u001b[0m         \u001b[0;32mwith\u001b[0m \u001b[0mrecord\u001b[0m\u001b[0;34m.\u001b[0m\u001b[0mstop_recording\u001b[0m\u001b[0;34m(\u001b[0m\u001b[0;34m)\u001b[0m\u001b[0;34m:\u001b[0m\u001b[0;34m\u001b[0m\u001b[0;34m\u001b[0m\u001b[0m\n\u001b[1;32m    250\u001b[0m           \u001b[0;32mif\u001b[0m \u001b[0mself\u001b[0m\u001b[0;34m.\u001b[0m\u001b[0m_bound_context\u001b[0m\u001b[0;34m.\u001b[0m\u001b[0mexecuting_eagerly\u001b[0m\u001b[0;34m(\u001b[0m\u001b[0;34m)\u001b[0m\u001b[0;34m:\u001b[0m\u001b[0;34m\u001b[0m\u001b[0;34m\u001b[0m\u001b[0m\n\u001b[0;32m--> 251\u001b[0;31m             outputs = self._bound_context.call_function(\n\u001b[0m\u001b[1;32m    252\u001b[0m                 \u001b[0mself\u001b[0m\u001b[0;34m.\u001b[0m\u001b[0mname\u001b[0m\u001b[0;34m,\u001b[0m\u001b[0;34m\u001b[0m\u001b[0;34m\u001b[0m\u001b[0m\n\u001b[1;32m    253\u001b[0m                 \u001b[0mlist\u001b[0m\u001b[0;34m(\u001b[0m\u001b[0margs\u001b[0m\u001b[0;34m)\u001b[0m\u001b[0;34m,\u001b[0m\u001b[0;34m\u001b[0m\u001b[0;34m\u001b[0m\u001b[0m\n",
            "\u001b[0;32m/usr/local/lib/python3.10/dist-packages/tensorflow/python/eager/context.py\u001b[0m in \u001b[0;36mcall_function\u001b[0;34m(self, name, tensor_inputs, num_outputs)\u001b[0m\n\u001b[1;32m   1484\u001b[0m     \u001b[0mcancellation_context\u001b[0m \u001b[0;34m=\u001b[0m \u001b[0mcancellation\u001b[0m\u001b[0;34m.\u001b[0m\u001b[0mcontext\u001b[0m\u001b[0;34m(\u001b[0m\u001b[0;34m)\u001b[0m\u001b[0;34m\u001b[0m\u001b[0;34m\u001b[0m\u001b[0m\n\u001b[1;32m   1485\u001b[0m     \u001b[0;32mif\u001b[0m \u001b[0mcancellation_context\u001b[0m \u001b[0;32mis\u001b[0m \u001b[0;32mNone\u001b[0m\u001b[0;34m:\u001b[0m\u001b[0;34m\u001b[0m\u001b[0;34m\u001b[0m\u001b[0m\n\u001b[0;32m-> 1486\u001b[0;31m       outputs = execute.execute(\n\u001b[0m\u001b[1;32m   1487\u001b[0m           \u001b[0mname\u001b[0m\u001b[0;34m.\u001b[0m\u001b[0mdecode\u001b[0m\u001b[0;34m(\u001b[0m\u001b[0;34m\"utf-8\"\u001b[0m\u001b[0;34m)\u001b[0m\u001b[0;34m,\u001b[0m\u001b[0;34m\u001b[0m\u001b[0;34m\u001b[0m\u001b[0m\n\u001b[1;32m   1488\u001b[0m           \u001b[0mnum_outputs\u001b[0m\u001b[0;34m=\u001b[0m\u001b[0mnum_outputs\u001b[0m\u001b[0;34m,\u001b[0m\u001b[0;34m\u001b[0m\u001b[0;34m\u001b[0m\u001b[0m\n",
            "\u001b[0;32m/usr/local/lib/python3.10/dist-packages/tensorflow/python/eager/execute.py\u001b[0m in \u001b[0;36mquick_execute\u001b[0;34m(op_name, num_outputs, inputs, attrs, ctx, name)\u001b[0m\n\u001b[1;32m     51\u001b[0m   \u001b[0;32mtry\u001b[0m\u001b[0;34m:\u001b[0m\u001b[0;34m\u001b[0m\u001b[0;34m\u001b[0m\u001b[0m\n\u001b[1;32m     52\u001b[0m     \u001b[0mctx\u001b[0m\u001b[0;34m.\u001b[0m\u001b[0mensure_initialized\u001b[0m\u001b[0;34m(\u001b[0m\u001b[0;34m)\u001b[0m\u001b[0;34m\u001b[0m\u001b[0;34m\u001b[0m\u001b[0m\n\u001b[0;32m---> 53\u001b[0;31m     tensors = pywrap_tfe.TFE_Py_Execute(ctx._handle, device_name, op_name,\n\u001b[0m\u001b[1;32m     54\u001b[0m                                         inputs, attrs, num_outputs)\n\u001b[1;32m     55\u001b[0m   \u001b[0;32mexcept\u001b[0m \u001b[0mcore\u001b[0m\u001b[0;34m.\u001b[0m\u001b[0m_NotOkStatusException\u001b[0m \u001b[0;32mas\u001b[0m \u001b[0me\u001b[0m\u001b[0;34m:\u001b[0m\u001b[0;34m\u001b[0m\u001b[0;34m\u001b[0m\u001b[0m\n",
            "\u001b[0;31mKeyboardInterrupt\u001b[0m: "
          ]
        }
      ]
    },
    {
      "cell_type": "code",
      "source": [
        "shallow_evaluation = model.evaluate(X_train_pad, y_train)\n",
        "print(\"Training:\")\n",
        "metric_names = model.metrics_names\n",
        "\n",
        "\n",
        "for metric_name, metric_value in zip(metric_names, shallow_evaluation):\n",
        "    print(f\"{metric_name.capitalize()}: {metric_value}\")\n",
        "\n",
        "shallow_evaluation = model.evaluate(X_test_pad, y_test)\n",
        "print(\"Testing:\")\n",
        "metric_names = model.metrics_names\n",
        "\n",
        "\n",
        "for metric_name, metric_value in zip(metric_names, shallow_evaluation):\n",
        "    print(f\"{metric_name.capitalize()}: {metric_value}\")"
      ],
      "metadata": {
        "id": "udYamnUPB7qF"
      },
      "execution_count": null,
      "outputs": []
    },
    {
      "cell_type": "code",
      "source": [
        "#LSTM"
      ],
      "metadata": {
        "id": "JF3AlQljI516"
      },
      "execution_count": null,
      "outputs": []
    },
    {
      "cell_type": "code",
      "source": [
        "model_lstm_uni = Sequential()\n",
        "model_lstm_uni.add(Embedding(input_dim=len(tokenizer.word_index) + 1, output_dim=100, input_length=max_length, weights=[embedding_matrix], trainable=False))\n",
        "model_lstm_uni.add(LSTM(10))\n",
        "model_lstm_uni.add(Dense(1, activation='sigmoid'))\n",
        "model_lstm_uni.summary()"
      ],
      "metadata": {
        "id": "BnPniVOtGV9O"
      },
      "execution_count": null,
      "outputs": []
    },
    {
      "cell_type": "code",
      "source": [
        "model_lstm_uni.compile(optimizer='adam', loss='binary_crossentropy', metrics=['accuracy', precision_m, recall_m, f1score_m])\n",
        "model_lstm_uni.fit(X_train_pad, y_train, epochs=20, batch_size=16, validation_split=0.1)"
      ],
      "metadata": {
        "id": "4K8tlE1IG9T4",
        "colab": {
          "base_uri": "https://localhost:8080/"
        },
        "outputId": "f47147ac-28b0-4586-dc67-81244f5e9712"
      },
      "execution_count": null,
      "outputs": [
        {
          "output_type": "stream",
          "name": "stdout",
          "text": [
            "Epoch 1/20\n",
            "1125/1125 [==============================] - 12s 8ms/step - loss: 0.5357 - accuracy: 0.7241 - precision_m: 0.7324 - recall_m: 0.7299 - f1score_m: 0.7161 - val_loss: 0.4416 - val_accuracy: 0.8008 - val_precision_m: 0.8155 - val_recall_m: 0.7793 - val_f1score_m: 0.7915\n",
            "Epoch 2/20\n",
            "1125/1125 [==============================] - 10s 9ms/step - loss: 0.4269 - accuracy: 0.8044 - precision_m: 0.8094 - recall_m: 0.8037 - f1score_m: 0.7985 - val_loss: 0.4090 - val_accuracy: 0.8183 - val_precision_m: 0.7992 - val_recall_m: 0.8524 - val_f1score_m: 0.8201\n",
            "Epoch 3/20\n",
            "1125/1125 [==============================] - 9s 8ms/step - loss: 0.3953 - accuracy: 0.8195 - precision_m: 0.8217 - recall_m: 0.8196 - f1score_m: 0.8138 - val_loss: 0.3856 - val_accuracy: 0.8330 - val_precision_m: 0.8290 - val_recall_m: 0.8417 - val_f1score_m: 0.8309\n",
            "Epoch 4/20\n",
            "1125/1125 [==============================] - 8s 7ms/step - loss: 0.3763 - accuracy: 0.8294 - precision_m: 0.8329 - recall_m: 0.8283 - f1score_m: 0.8239 - val_loss: 0.3729 - val_accuracy: 0.8332 - val_precision_m: 0.8526 - val_recall_m: 0.8102 - val_f1score_m: 0.8260\n",
            "Epoch 5/20\n",
            "1125/1125 [==============================] - 8s 8ms/step - loss: 0.3589 - accuracy: 0.8395 - precision_m: 0.8423 - recall_m: 0.8389 - f1score_m: 0.8353 - val_loss: 0.3692 - val_accuracy: 0.8357 - val_precision_m: 0.8688 - val_recall_m: 0.7959 - val_f1score_m: 0.8259\n",
            "Epoch 6/20\n",
            "1125/1125 [==============================] - 9s 8ms/step - loss: 0.3499 - accuracy: 0.8442 - precision_m: 0.8470 - recall_m: 0.8438 - f1score_m: 0.8399 - val_loss: 0.3602 - val_accuracy: 0.8400 - val_precision_m: 0.8364 - val_recall_m: 0.8496 - val_f1score_m: 0.8388\n",
            "Epoch 7/20\n",
            "1125/1125 [==============================] - 8s 7ms/step - loss: 0.3400 - accuracy: 0.8495 - precision_m: 0.8515 - recall_m: 0.8495 - f1score_m: 0.8447 - val_loss: 0.3543 - val_accuracy: 0.8468 - val_precision_m: 0.8478 - val_recall_m: 0.8493 - val_f1score_m: 0.8447\n",
            "Epoch 8/20\n",
            "1125/1125 [==============================] - 9s 8ms/step - loss: 0.3342 - accuracy: 0.8516 - precision_m: 0.8546 - recall_m: 0.8517 - f1score_m: 0.8475 - val_loss: 0.3489 - val_accuracy: 0.8515 - val_precision_m: 0.8601 - val_recall_m: 0.8437 - val_f1score_m: 0.8475\n",
            "Epoch 9/20\n",
            "1125/1125 [==============================] - 8s 7ms/step - loss: 0.3253 - accuracy: 0.8572 - precision_m: 0.8595 - recall_m: 0.8597 - f1score_m: 0.8542 - val_loss: 0.3749 - val_accuracy: 0.8350 - val_precision_m: 0.8065 - val_recall_m: 0.8843 - val_f1score_m: 0.8401\n",
            "Epoch 10/20\n",
            "1125/1125 [==============================] - 9s 8ms/step - loss: 0.3199 - accuracy: 0.8619 - precision_m: 0.8640 - recall_m: 0.8621 - f1score_m: 0.8580 - val_loss: 0.3454 - val_accuracy: 0.8493 - val_precision_m: 0.8715 - val_recall_m: 0.8239 - val_f1score_m: 0.8429\n",
            "Epoch 11/20\n",
            "1125/1125 [==============================] - 8s 7ms/step - loss: 0.3117 - accuracy: 0.8657 - precision_m: 0.8666 - recall_m: 0.8670 - f1score_m: 0.8622 - val_loss: 0.3476 - val_accuracy: 0.8522 - val_precision_m: 0.8459 - val_recall_m: 0.8657 - val_f1score_m: 0.8518\n",
            "Epoch 12/20\n",
            "1125/1125 [==============================] - 9s 8ms/step - loss: 0.3067 - accuracy: 0.8671 - precision_m: 0.8690 - recall_m: 0.8668 - f1score_m: 0.8631 - val_loss: 0.3457 - val_accuracy: 0.8505 - val_precision_m: 0.8555 - val_recall_m: 0.8468 - val_f1score_m: 0.8475\n",
            "Epoch 13/20\n",
            "1125/1125 [==============================] - 9s 8ms/step - loss: 0.3027 - accuracy: 0.8677 - precision_m: 0.8696 - recall_m: 0.8682 - f1score_m: 0.8638 - val_loss: 0.3479 - val_accuracy: 0.8462 - val_precision_m: 0.8277 - val_recall_m: 0.8796 - val_f1score_m: 0.8490\n",
            "Epoch 14/20\n",
            "1125/1125 [==============================] - 8s 7ms/step - loss: 0.2973 - accuracy: 0.8709 - precision_m: 0.8726 - recall_m: 0.8705 - f1score_m: 0.8667 - val_loss: 0.3404 - val_accuracy: 0.8570 - val_precision_m: 0.8630 - val_recall_m: 0.8539 - val_f1score_m: 0.8549\n",
            "Epoch 15/20\n",
            "1125/1125 [==============================] - 9s 8ms/step - loss: 0.2936 - accuracy: 0.8737 - precision_m: 0.8764 - recall_m: 0.8742 - f1score_m: 0.8704 - val_loss: 0.3392 - val_accuracy: 0.8570 - val_precision_m: 0.8534 - val_recall_m: 0.8648 - val_f1score_m: 0.8557\n",
            "Epoch 16/20\n",
            "1125/1125 [==============================] - 8s 7ms/step - loss: 0.2906 - accuracy: 0.8760 - precision_m: 0.8767 - recall_m: 0.8771 - f1score_m: 0.8722 - val_loss: 0.3448 - val_accuracy: 0.8553 - val_precision_m: 0.8886 - val_recall_m: 0.8149 - val_f1score_m: 0.8465\n",
            "Epoch 17/20\n",
            "1125/1125 [==============================] - 9s 8ms/step - loss: 0.2860 - accuracy: 0.8778 - precision_m: 0.8797 - recall_m: 0.8784 - f1score_m: 0.8748 - val_loss: 0.3372 - val_accuracy: 0.8585 - val_precision_m: 0.8516 - val_recall_m: 0.8719 - val_f1score_m: 0.8583\n",
            "Epoch 18/20\n",
            "1125/1125 [==============================] - 8s 7ms/step - loss: 0.2831 - accuracy: 0.8786 - precision_m: 0.8809 - recall_m: 0.8788 - f1score_m: 0.8755 - val_loss: 0.3471 - val_accuracy: 0.8553 - val_precision_m: 0.8410 - val_recall_m: 0.8800 - val_f1score_m: 0.8566\n",
            "Epoch 19/20\n",
            "1125/1125 [==============================] - 8s 7ms/step - loss: 0.2809 - accuracy: 0.8785 - precision_m: 0.8805 - recall_m: 0.8790 - f1score_m: 0.8755 - val_loss: 0.3434 - val_accuracy: 0.8560 - val_precision_m: 0.8410 - val_recall_m: 0.8799 - val_f1score_m: 0.8571\n",
            "Epoch 20/20\n",
            "1125/1125 [==============================] - 9s 8ms/step - loss: 0.2776 - accuracy: 0.8816 - precision_m: 0.8822 - recall_m: 0.8835 - f1score_m: 0.8783 - val_loss: 0.3420 - val_accuracy: 0.8590 - val_precision_m: 0.8568 - val_recall_m: 0.8622 - val_f1score_m: 0.8569\n"
          ]
        },
        {
          "output_type": "execute_result",
          "data": {
            "text/plain": [
              "<keras.src.callbacks.History at 0x797ce7f6f460>"
            ]
          },
          "metadata": {},
          "execution_count": 23
        }
      ]
    },
    {
      "cell_type": "code",
      "source": [
        "lstm_uni_evaluation = model_lstm_uni.evaluate(X_train_pad, y_train)\n",
        "print(\"Training\")\n",
        "metric_names = model_lstm_uni.metrics_names\n",
        "for metric_name, metric_value in zip(metric_names, lstm_uni_evaluation):\n",
        "    print(f\"{metric_name.capitalize()}: {metric_value}\")\n",
        "\n",
        "lstm_uni_evaluation = model_lstm_uni.evaluate(X_test_pad, y_test)\n",
        "print(\"Testing\")\n",
        "metric_names = model_lstm_uni.metrics_names\n",
        "for metric_name, metric_value in zip(metric_names, lstm_uni_evaluation):\n",
        "    print(f\"{metric_name.capitalize()}: {metric_value}\")"
      ],
      "metadata": {
        "id": "bfiONHM8HARt",
        "colab": {
          "base_uri": "https://localhost:8080/"
        },
        "outputId": "6085c246-2918-4f31-8036-f22721a0f56a"
      },
      "execution_count": null,
      "outputs": [
        {
          "output_type": "stream",
          "name": "stdout",
          "text": [
            "1250/1250 [==============================] - 5s 4ms/step - loss: 0.2694 - accuracy: 0.8868 - precision_m: 0.8795 - recall_m: 0.8975 - f1score_m: 0.8850\n",
            "Training\n",
            "Loss: 0.26944881677627563\n",
            "Accuracy: 0.8868250250816345\n",
            "Precision_m: 0.8794683814048767\n",
            "Recall_m: 0.8975121974945068\n",
            "F1score_m: 0.8850035071372986\n",
            "313/313 [==============================] - 42s 6ms/step - loss: 0.3462 - accuracy: 0.8502 - precision_m: 0.8358 - recall_m: 0.8645 - f1score_m: 0.8464\n",
            "Testing\n",
            "Loss: 0.34619536995887756\n",
            "Accuracy: 0.8501999974250793\n",
            "Precision_m: 0.8357941508293152\n",
            "Recall_m: 0.8644694089889526\n",
            "F1score_m: 0.8464212417602539\n"
          ]
        }
      ]
    },
    {
      "cell_type": "code",
      "source": [
        "#Bidirectional\n",
        "model_lstm_bi = Sequential()\n",
        "model_lstm_bi.add(Embedding(input_dim=len(tokenizer.word_index) + 1, output_dim=100, input_length=max_length, weights=[embedding_matrix], trainable=False))\n",
        "model_lstm_bi.add(Bidirectional(LSTM(10)))\n",
        "model_lstm_bi.add(Dense(1, activation='sigmoid'))\n",
        "model_lstm_bi.summary()"
      ],
      "metadata": {
        "id": "dKMfmXajHe5w",
        "colab": {
          "base_uri": "https://localhost:8080/"
        },
        "outputId": "25c2cc7e-1dbd-4013-bed6-6f40804682fe"
      },
      "execution_count": null,
      "outputs": [
        {
          "output_type": "stream",
          "name": "stdout",
          "text": [
            "Model: \"sequential_19\"\n",
            "_________________________________________________________________\n",
            " Layer (type)                Output Shape              Param #   \n",
            "=================================================================\n",
            " embedding_19 (Embedding)    (None, 100, 100)          11239000  \n",
            "                                                                 \n",
            " bidirectional_1 (Bidirecti  (None, 20)                8880      \n",
            " onal)                                                           \n",
            "                                                                 \n",
            " dense_36 (Dense)            (None, 1)                 21        \n",
            "                                                                 \n",
            "=================================================================\n",
            "Total params: 11247901 (42.91 MB)\n",
            "Trainable params: 8901 (34.77 KB)\n",
            "Non-trainable params: 11239000 (42.87 MB)\n",
            "_________________________________________________________________\n"
          ]
        }
      ]
    },
    {
      "cell_type": "code",
      "source": [
        "model_lstm_bi.compile(optimizer='adam', loss='binary_crossentropy', metrics=['accuracy',precision_m, recall_m, f1score_m])\n",
        "model_lstm_bi.fit(X_train_pad, y_train, epochs=20, batch_size=16, validation_split=0.1)"
      ],
      "metadata": {
        "id": "dSu9fSL3IJpj",
        "colab": {
          "base_uri": "https://localhost:8080/"
        },
        "outputId": "0d1a2630-f5c8-4a13-f80a-7820425b009d"
      },
      "execution_count": null,
      "outputs": [
        {
          "output_type": "stream",
          "name": "stdout",
          "text": [
            "Epoch 1/20\n",
            "1125/1125 [==============================] - 17s 12ms/step - loss: 0.5316 - accuracy: 0.7266 - precision_m: 0.7384 - recall_m: 0.7309 - f1score_m: 0.7207 - val_loss: 0.4413 - val_accuracy: 0.7975 - val_precision_m: 0.8409 - val_recall_m: 0.7332 - val_f1score_m: 0.7787\n",
            "Epoch 2/20\n",
            "1125/1125 [==============================] - 13s 11ms/step - loss: 0.4172 - accuracy: 0.8074 - precision_m: 0.8157 - recall_m: 0.8005 - f1score_m: 0.8012 - val_loss: 0.3977 - val_accuracy: 0.8175 - val_precision_m: 0.8008 - val_recall_m: 0.8421 - val_f1score_m: 0.8170\n",
            "Epoch 3/20\n",
            "1125/1125 [==============================] - 13s 12ms/step - loss: 0.3830 - accuracy: 0.8266 - precision_m: 0.8304 - recall_m: 0.8239 - f1score_m: 0.8207 - val_loss: 0.3695 - val_accuracy: 0.8317 - val_precision_m: 0.8295 - val_recall_m: 0.8345 - val_f1score_m: 0.8283\n",
            "Epoch 4/20\n",
            "1125/1125 [==============================] - 14s 13ms/step - loss: 0.3632 - accuracy: 0.8378 - precision_m: 0.8439 - recall_m: 0.8350 - f1score_m: 0.8330 - val_loss: 0.3576 - val_accuracy: 0.8403 - val_precision_m: 0.8292 - val_recall_m: 0.8577 - val_f1score_m: 0.8397\n",
            "Epoch 5/20\n",
            "1125/1125 [==============================] - 13s 12ms/step - loss: 0.3455 - accuracy: 0.8461 - precision_m: 0.8483 - recall_m: 0.8452 - f1score_m: 0.8412 - val_loss: 0.3511 - val_accuracy: 0.8420 - val_precision_m: 0.8254 - val_recall_m: 0.8685 - val_f1score_m: 0.8429\n",
            "Epoch 6/20\n",
            "1125/1125 [==============================] - 13s 11ms/step - loss: 0.3313 - accuracy: 0.8516 - precision_m: 0.8534 - recall_m: 0.8527 - f1score_m: 0.8478 - val_loss: 0.3477 - val_accuracy: 0.8450 - val_precision_m: 0.8235 - val_recall_m: 0.8812 - val_f1score_m: 0.8480\n",
            "Epoch 7/20\n",
            "1125/1125 [==============================] - 12s 11ms/step - loss: 0.3211 - accuracy: 0.8599 - precision_m: 0.8629 - recall_m: 0.8587 - f1score_m: 0.8558 - val_loss: 0.3389 - val_accuracy: 0.8510 - val_precision_m: 0.8327 - val_recall_m: 0.8776 - val_f1score_m: 0.8516\n",
            "Epoch 8/20\n",
            "1125/1125 [==============================] - 12s 11ms/step - loss: 0.3120 - accuracy: 0.8614 - precision_m: 0.8632 - recall_m: 0.8623 - f1score_m: 0.8577 - val_loss: 0.3344 - val_accuracy: 0.8568 - val_precision_m: 0.8584 - val_recall_m: 0.8551 - val_f1score_m: 0.8538\n",
            "Epoch 9/20\n",
            "1125/1125 [==============================] - 13s 11ms/step - loss: 0.3010 - accuracy: 0.8681 - precision_m: 0.8691 - recall_m: 0.8687 - f1score_m: 0.8643 - val_loss: 0.3648 - val_accuracy: 0.8375 - val_precision_m: 0.9056 - val_recall_m: 0.7527 - val_f1score_m: 0.8181\n",
            "Epoch 10/20\n",
            "1125/1125 [==============================] - 13s 11ms/step - loss: 0.2927 - accuracy: 0.8733 - precision_m: 0.8745 - recall_m: 0.8738 - f1score_m: 0.8696 - val_loss: 0.3313 - val_accuracy: 0.8560 - val_precision_m: 0.8527 - val_recall_m: 0.8590 - val_f1score_m: 0.8526\n",
            "Epoch 11/20\n",
            "1125/1125 [==============================] - 13s 11ms/step - loss: 0.2858 - accuracy: 0.8755 - precision_m: 0.8776 - recall_m: 0.8750 - f1score_m: 0.8720 - val_loss: 0.3532 - val_accuracy: 0.8415 - val_precision_m: 0.8032 - val_recall_m: 0.9037 - val_f1score_m: 0.8475\n",
            "Epoch 12/20\n",
            "1125/1125 [==============================] - 13s 11ms/step - loss: 0.2808 - accuracy: 0.8774 - precision_m: 0.8783 - recall_m: 0.8791 - f1score_m: 0.8741 - val_loss: 0.3346 - val_accuracy: 0.8530 - val_precision_m: 0.8397 - val_recall_m: 0.8733 - val_f1score_m: 0.8535\n",
            "Epoch 13/20\n",
            "1125/1125 [==============================] - 13s 12ms/step - loss: 0.2726 - accuracy: 0.8821 - precision_m: 0.8827 - recall_m: 0.8830 - f1score_m: 0.8787 - val_loss: 0.3400 - val_accuracy: 0.8547 - val_precision_m: 0.8924 - val_recall_m: 0.8086 - val_f1score_m: 0.8450\n",
            "Epoch 14/20\n",
            "1125/1125 [==============================] - 13s 11ms/step - loss: 0.2672 - accuracy: 0.8860 - precision_m: 0.8890 - recall_m: 0.8855 - f1score_m: 0.8831 - val_loss: 0.3370 - val_accuracy: 0.8558 - val_precision_m: 0.8776 - val_recall_m: 0.8277 - val_f1score_m: 0.8487\n",
            "Epoch 15/20\n",
            "1125/1125 [==============================] - 12s 11ms/step - loss: 0.2625 - accuracy: 0.8871 - precision_m: 0.8901 - recall_m: 0.8873 - f1score_m: 0.8844 - val_loss: 0.3346 - val_accuracy: 0.8543 - val_precision_m: 0.8566 - val_recall_m: 0.8526 - val_f1score_m: 0.8510\n",
            "Epoch 16/20\n",
            "1125/1125 [==============================] - 12s 11ms/step - loss: 0.2562 - accuracy: 0.8903 - precision_m: 0.8914 - recall_m: 0.8913 - f1score_m: 0.8872 - val_loss: 0.3361 - val_accuracy: 0.8550 - val_precision_m: 0.8700 - val_recall_m: 0.8399 - val_f1score_m: 0.8511\n",
            "Epoch 17/20\n",
            "1125/1125 [==============================] - 13s 11ms/step - loss: 0.2513 - accuracy: 0.8918 - precision_m: 0.8927 - recall_m: 0.8932 - f1score_m: 0.8891 - val_loss: 0.3435 - val_accuracy: 0.8553 - val_precision_m: 0.8820 - val_recall_m: 0.8255 - val_f1score_m: 0.8493\n",
            "Epoch 18/20\n",
            "1125/1125 [==============================] - 13s 11ms/step - loss: 0.2470 - accuracy: 0.8949 - precision_m: 0.8962 - recall_m: 0.8938 - f1score_m: 0.8913 - val_loss: 0.3395 - val_accuracy: 0.8555 - val_precision_m: 0.8616 - val_recall_m: 0.8531 - val_f1score_m: 0.8536\n",
            "Epoch 19/20\n",
            "1125/1125 [==============================] - 13s 12ms/step - loss: 0.2424 - accuracy: 0.8973 - precision_m: 0.8988 - recall_m: 0.8980 - f1score_m: 0.8945 - val_loss: 0.3451 - val_accuracy: 0.8547 - val_precision_m: 0.8475 - val_recall_m: 0.8697 - val_f1score_m: 0.8550\n",
            "Epoch 20/20\n",
            "1125/1125 [==============================] - 13s 12ms/step - loss: 0.2366 - accuracy: 0.8999 - precision_m: 0.9017 - recall_m: 0.9001 - f1score_m: 0.8973 - val_loss: 0.3461 - val_accuracy: 0.8533 - val_precision_m: 0.8660 - val_recall_m: 0.8394 - val_f1score_m: 0.8492\n"
          ]
        },
        {
          "output_type": "execute_result",
          "data": {
            "text/plain": [
              "<keras.src.callbacks.History at 0x797d52d5de70>"
            ]
          },
          "metadata": {},
          "execution_count": 30
        }
      ]
    },
    {
      "cell_type": "markdown",
      "source": [],
      "metadata": {
        "id": "OHQt_wOUTEJQ"
      }
    },
    {
      "cell_type": "code",
      "source": [
        "lstm_bi_evaluation = model_lstm_bi.evaluate(X_train_pad, y_train)\n",
        "print(\"Traning\")\n",
        "metric_names = model_lstm_bi.metrics_names\n",
        "for metric_name, metric_value in zip(metric_names, lstm_bi_evaluation):\n",
        "    print(f\"{metric_name.capitalize()}: {metric_value}\")\n",
        "\n",
        "lstm_bi_evaluation = model_lstm_bi.evaluate(X_test_pad, y_test)\n",
        "print(\"Testing\")\n",
        "metric_names = model_lstm_bi.metrics_names\n",
        "for metric_name, metric_value in zip(metric_names, lstm_bi_evaluation):\n",
        "    print(f\"{metric_name.capitalize()}: {metric_value}\")"
      ],
      "metadata": {
        "id": "DQBrWnAqIKfQ",
        "colab": {
          "base_uri": "https://localhost:8080/"
        },
        "outputId": "5df1487b-3d04-4104-b9d9-f53883df4a1e"
      },
      "execution_count": null,
      "outputs": [
        {
          "output_type": "stream",
          "name": "stdout",
          "text": [
            "1250/1250 [==============================] - 8s 6ms/step - loss: 0.2317 - accuracy: 0.9043 - precision_m: 0.9159 - recall_m: 0.8916 - f1score_m: 0.9009\n",
            "Traning\n",
            "Loss: 0.23173201084136963\n",
            "Accuracy: 0.904325008392334\n",
            "Precision_m: 0.915909469127655\n",
            "Recall_m: 0.8916433453559875\n",
            "F1score_m: 0.9008693099021912\n",
            "313/313 [==============================] - 2s 5ms/step - loss: 0.3523 - accuracy: 0.8515 - precision_m: 0.8602 - recall_m: 0.8334 - f1score_m: 0.8424\n",
            "Testing\n",
            "Loss: 0.35232317447662354\n",
            "Accuracy: 0.8514999747276306\n",
            "Precision_m: 0.860238254070282\n",
            "Recall_m: 0.8334054946899414\n",
            "F1score_m: 0.8423897624015808\n"
          ]
        }
      ]
    },
    {
      "cell_type": "code",
      "source": [
        "#Comparison"
      ],
      "metadata": {
        "id": "1TIU-aibkrBL"
      },
      "execution_count": null,
      "outputs": []
    },
    {
      "cell_type": "code",
      "source": [
        "models = ['Shallow', 'LSTM_UNI', 'LSTM_BI']\n",
        "accuracy = [shallow_evaluation[1], lstm_uni_evaluation[1], lstm_bi_evaluation[1]]\n",
        "precision = [shallow_evaluation[2], lstm_uni_evaluation[2], lstm_bi_evaluation[2]]\n",
        "recall = [shallow_evaluation[3], lstm_uni_evaluation[3], lstm_bi_evaluation[3]]\n",
        "f1_score = [shallow_evaluation[4], lstm_uni_evaluation[4], lstm_bi_evaluation[4]]\n",
        "\n",
        "metrics = ['Accuracy', 'Precision', 'Recall', 'F1-Score']\n",
        "metric_values = [accuracy, precision, recall, f1_score]\n",
        "\n",
        "for i, metric in enumerate(metrics):\n",
        "    plt.figure(figsize=(8, 6))\n",
        "    bars = plt.bar(models, metric_values[i], color=['blue', 'orange', 'green'])\n",
        "\n",
        "\n",
        "    for bar, value in zip(bars, metric_values[i]):\n",
        "        plt.text(bar.get_x() + bar.get_width() / 2, bar.get_height() - 0.02, f'{value:.4f}', ha='center', va='top', color='white')\n",
        "\n",
        "    plt.xlabel('Models')\n",
        "    plt.ylabel(metric)\n",
        "    plt.title(f'{metric} Comparison among Models')\n",
        "    plt.show()"
      ],
      "metadata": {
        "id": "CGMhY72UktWt",
        "colab": {
          "base_uri": "https://localhost:8080/",
          "height": 1000
        },
        "outputId": "ecf32147-a6db-4e75-e003-b65433845903"
      },
      "execution_count": null,
      "outputs": [
        {
          "output_type": "display_data",
          "data": {
            "text/plain": [
              "<Figure size 800x600 with 1 Axes>"
            ],
            "image/png": "[encoded data removed]"
          },
          "metadata": {}
        },
        {
          "output_type": "display_data",
          "data": {
            "text/plain": [
              "<Figure size 800x600 with 1 Axes>"
            ],
            "image/png": "[encoded data removed]"
          },
          "metadata": {}
        },
        {
          "output_type": "display_data",
          "data": {
            "text/plain": [
              "<Figure size 800x600 with 1 Axes>"
            ],
            "image/png": "[encoded data removed]"
          },
          "metadata": {}
        },
        {
          "output_type": "display_data",
          "data": {
            "text/plain": [
              "<Figure size 800x600 with 1 Axes>"
            ],
            "image/png": "[encoded data removed]"
          },
          "metadata": {}
        }
      ]
    },
    {
      "cell_type": "code",
      "source": [],
      "metadata": {
        "id": "yJwVCx69nIrU"
      },
      "execution_count": null,
      "outputs": []
    }
  ]
}